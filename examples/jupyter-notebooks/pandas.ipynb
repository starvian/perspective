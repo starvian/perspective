{
 "cells": [
  {
   "cell_type": "code",
   "execution_count": null,
   "metadata": {},
   "outputs": [],
   "source": [
    "import pandas as pd\n",
    "from datetime import datetime, date\n",
    "from perspective import PerspectiveWidget"
   ]
  },
  {
   "cell_type": "code",
   "execution_count": null,
   "metadata": {},
   "outputs": [],
   "source": [
    "# schema\n",
    "df = pd.DataFrame([\n",
    "    {\n",
    "       'int': 1,\n",
    "       'float': 1.5,\n",
    "       'string': '20150505',\n",
    "       'date': date.today(),\n",
    "       'datetime': datetime.now(),\n",
    "       'object': datetime.now(),\n",
    "    },\n",
    "    {\n",
    "       'int': 1,\n",
    "       'float': 1.5,\n",
    "       'string': '20150506',\n",
    "       'date': None,\n",
    "       'datetime': None,\n",
    "       'object': None,\n",
    "    },\n",
    "])"
   ]
  },
  {
   "cell_type": "code",
   "execution_count": null,
   "metadata": {},
   "outputs": [],
   "source": [
    "df"
   ]
  },
  {
   "cell_type": "code",
   "execution_count": null,
   "metadata": {},
   "outputs": [],
   "source": [
    "psp = PerspectiveWidget(df)\n",
    "psp"
   ]
  },
  {
   "cell_type": "code",
   "execution_count": null,
   "metadata": {},
   "outputs": [],
   "source": []
  }
 ],
 "metadata": {
  "kernelspec": {
   "display_name": "Python 3",
   "language": "python",
   "name": "python3"
  },
  "language_info": {
   "codemirror_mode": {
    "name": "ipython",
    "version": 3
   },
   "file_extension": ".py",
   "mimetype": "text/x-python",
   "name": "python",
   "nbconvert_exporter": "python",
   "pygments_lexer": "ipython3",
   "version": "3.7.7"
  },
  "widgets": {
   "application/vnd.jupyter.widget-state+json": {
    "state": {
     "9bbbdca3b0504f6b8c446ef7e5bb6317": {
      "model_module": "@finos/perspective-jupyterlab",
      "model_module_version": "~0.5",
      "model_name": "PerspectiveModel",
      "state": {
       "_model_module_version": "~0.5",
       "_view_module_version": "~0.5",
       "aggregates": null,
       "column_pivots": null,
       "columns": [
        "index",
        "int",
        "float",
        "string",
        "date",
        "datetime",
        "object"
       ],
       "dark": null,
       "row_pivots": null,
       "sort": null
      }
     }
    },
    "version_major": 2,
    "version_minor": 0
   }
  }
 },
 "nbformat": 4,
 "nbformat_minor": 4
}
