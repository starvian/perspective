{
 "cells": [
  {
   "cell_type": "markdown",
   "metadata": {},
   "source": [
    "#### Using filters in PerspectiveWidget"
   ]
  },
  {
   "cell_type": "code",
   "execution_count": 1,
   "metadata": {},
   "outputs": [],
   "source": [
    "import pandas as pd\n",
    "import numpy as np\n",
    "from datetime import date, datetime\n",
    "from perspective import PerspectiveWidget"
   ]
  },
  {
   "cell_type": "code",
   "execution_count": 2,
   "metadata": {},
   "outputs": [],
   "source": [
    "data = pd.DataFrame({\n",
    "    \"set\": [True, False, True, False],\n",
    "    \"num\": np.arange(4)\n",
    "})"
   ]
  },
  {
   "cell_type": "code",
   "execution_count": 3,
   "metadata": {},
   "outputs": [],
   "source": [
    "''' PerspectiveWidget supports a wide range of filter conditions inside the `filters` kwarg.\n",
    "\n",
    "Pass `filters` a list of lists - each element is a list of three values:\n",
    "    - [0]: a string column name to filter on\n",
    "    - [1]: a string filter operation, i.e. \"<\", \">\", \"==\", \"is null\", \"is not null\"\n",
    "    - [2]: a value to filter on (not needed if using \"is null\"/\"is not null\" filters)\n",
    "'''\n",
    "widget = PerspectiveWidget(data, filters=[[\"set\", \"==\", True]])"
   ]
  },
  {
   "cell_type": "code",
   "execution_count": 4,
   "metadata": {},
   "outputs": [
    {
     "data": {
      "application/vnd.jupyter.widget-view+json": {
       "model_id": "f15490f46ecf450494ccd8afeeac0863",
       "version_major": 2,
       "version_minor": 0
      },
      "text/plain": [
       "PerspectiveWidget(columns=['index', 'set', 'num'], filters=[['set', '==', True]])"
      ]
     },
     "metadata": {},
     "output_type": "display_data"
    }
   ],
   "source": [
    "widget"
   ]
  },
  {
   "cell_type": "code",
   "execution_count": 5,
   "metadata": {},
   "outputs": [],
   "source": [
    "data2 = pd.DataFrame({\n",
    "    \"time\": [datetime(2019, 6, 10, 12, 30), datetime(2019, 6, 10, 14, 30), datetime(2019, 6, 11, 12, 30), datetime(2019, 6, 11, 14, 30)],\n",
    "    \"date\": [date(2019, 6, 10), date(2019, 6, 11), date(2019, 6, 12), date(2019, 6, 13)],\n",
    "    \"num\": np.arange(4),\n",
    "    \"nullable\": [None, 1, None, 2]\n",
    "})"
   ]
  },
  {
   "cell_type": "code",
   "execution_count": 58,
   "metadata": {},
   "outputs": [],
   "source": [
    "# filtering on \"is null\" or \"not null\" does not require a comparison value\n",
    "widget2 = PerspectiveWidget(data2, filters=[[\"nullable\", \"is null\"]])"
   ]
  },
  {
   "cell_type": "code",
   "execution_count": 59,
   "metadata": {},
   "outputs": [
    {
     "data": {
      "application/vnd.jupyter.widget-view+json": {
       "model_id": "40354a4d80e24b57bdb671f692ccb903",
       "version_major": 2,
       "version_minor": 0
      },
      "text/plain": [
       "PerspectiveWidget(columns=['index', 'time', 'date', 'num', 'nullable'], filters=[['time', '>', '06/10/2019, 12…"
      ]
     },
     "metadata": {},
     "output_type": "display_data"
    }
   ],
   "source": [
    "widget2"
   ]
  },
  {
   "cell_type": "code",
   "execution_count": 60,
   "metadata": {},
   "outputs": [],
   "source": [
    "widget2.filters = [[\"date\", \"==\", date(2019, 6, 11)]] # apply a new set of filters to the widget"
   ]
  },
  {
   "cell_type": "code",
   "execution_count": 73,
   "metadata": {},
   "outputs": [],
   "source": [
    "widget2.filters = [[\"date\", \"==\", datetime(2019, 6, 10, 10, 30)]] # apply a new set of filters to the widget"
   ]
  },
  {
   "cell_type": "code",
   "execution_count": 62,
   "metadata": {},
   "outputs": [],
   "source": [
    "widget2.filters = []"
   ]
  },
  {
   "cell_type": "code",
   "execution_count": 66,
   "metadata": {},
   "outputs": [
    {
     "data": {
      "text/plain": [
       "[['date', '==', '06/11/2019, 01:00:00 AM']]"
      ]
     },
     "execution_count": 66,
     "metadata": {},
     "output_type": "execute_result"
    }
   ],
   "source": [
    "widget2.filters"
   ]
  },
  {
   "cell_type": "code",
   "execution_count": 65,
   "metadata": {},
   "outputs": [],
   "source": [
    "# filtering on \"is null\" or \"not null\" does not require a comparison value\n",
    "widget3 = PerspectiveWidget(data2, filters=[[\"nullable\", \"is null\"]])"
   ]
  },
  {
   "cell_type": "code",
   "execution_count": 10,
   "metadata": {},
   "outputs": [
    {
     "data": {
      "application/vnd.jupyter.widget-view+json": {
       "model_id": "e9bac45aea1e46cdaaedb99855378b21",
       "version_major": 2,
       "version_minor": 0
      },
      "text/plain": [
       "PerspectiveWidget(columns=['index', 'time', 'date', 'num', 'nullable'], filters=[['nullable', 'is null']])"
      ]
     },
     "metadata": {},
     "output_type": "display_data"
    }
   ],
   "source": [
    "widget3"
   ]
  },
  {
   "cell_type": "code",
   "execution_count": 11,
   "metadata": {},
   "outputs": [
    {
     "data": {
      "text/plain": [
       "[['date', '==', 1560225600000]]"
      ]
     },
     "execution_count": 11,
     "metadata": {},
     "output_type": "execute_result"
    }
   ],
   "source": [
    "widget2.filters"
   ]
  },
  {
   "cell_type": "code",
   "execution_count": null,
   "metadata": {},
   "outputs": [],
   "source": []
  }
 ],
 "metadata": {
  "kernelspec": {
   "display_name": "Python 3",
   "language": "python",
   "name": "python3"
  },
  "language_info": {
   "codemirror_mode": {
    "name": "ipython",
    "version": 3
   },
   "file_extension": ".py",
   "mimetype": "text/x-python",
   "name": "python",
   "nbconvert_exporter": "python",
   "pygments_lexer": "ipython3",
   "version": "3.7.7"
  },
  "widgets": {
   "application/vnd.jupyter.widget-state+json": {
    "state": {
     "40354a4d80e24b57bdb671f692ccb903": {
      "model_module": "@finos/perspective-jupyterlab",
      "model_module_version": "~0.5",
      "model_name": "PerspectiveModel",
      "state": {
       "_model_module_version": "~0.5",
       "_view_module_version": "~0.5",
       "aggregates": null,
       "column_pivots": null,
       "columns": [
        "index",
        "time",
        "date",
        "num",
        "nullable"
       ],
       "dark": null,
       "filters": [
        [
         "date",
         "==",
         "2019-06-10 10:30:00"
        ]
       ],
       "row_pivots": null,
       "sort": null
      }
     },
     "9468249e4f8346f9867ef94ac6ba9167": {
      "model_module": "@finos/perspective-jupyterlab",
      "model_module_version": "~0.5",
      "model_name": "PerspectiveModel",
      "state": {
       "_model_module_version": "~0.5",
       "_view_module_version": "~0.5",
       "columns": [
        "index",
        "time",
        "date",
        "num",
        "nullable"
       ],
       "dark": null,
       "filters": [
        [
         "nullable",
         "is null"
        ]
       ]
      }
     },
     "a720aa9274b64308aef02decd6cc462a": {
      "model_module": "@finos/perspective-jupyterlab",
      "model_module_version": "~0.5",
      "model_name": "PerspectiveModel",
      "state": {
       "_model_module_version": "~0.5",
       "_view_module_version": "~0.5",
       "columns": [
        "index",
        "time",
        "date",
        "num",
        "nullable"
       ],
       "dark": null,
       "filters": [
        [
         "nullable",
         "is null"
        ]
       ]
      }
     },
     "ca7cf5b8d3514646bd63cf3c5fdf75cf": {
      "model_module": "@finos/perspective-jupyterlab",
      "model_module_version": "~0.5",
      "model_name": "PerspectiveModel",
      "state": {
       "_model_module_version": "~0.5",
       "_view_module_version": "~0.5",
       "columns": [
        "index",
        "time",
        "date",
        "num",
        "nullable"
       ],
       "dark": null,
       "filters": [
        [
         "nullable",
         "is null"
        ]
       ]
      }
     },
     "da2c54e43ef147f08b0ff3517d9ccd94": {
      "model_module": "@finos/perspective-jupyterlab",
      "model_module_version": "~0.5",
      "model_name": "PerspectiveModel",
      "state": {
       "_model_module_version": "~0.5",
       "_view_module_version": "~0.5",
       "columns": [
        "index",
        "time",
        "date",
        "num",
        "nullable"
       ],
       "dark": null,
       "filters": [
        [
         "nullable",
         "is null"
        ]
       ]
      }
     },
     "dc643bc9258d4cb0adf908819e454426": {
      "model_module": "@finos/perspective-jupyterlab",
      "model_module_version": "~0.5",
      "model_name": "PerspectiveModel",
      "state": {
       "_model_module_version": "~0.5",
       "_view_module_version": "~0.5",
       "aggregates": null,
       "column_pivots": null,
       "columns": [
        "index",
        "time",
        "date",
        "num",
        "nullable"
       ],
       "dark": null,
       "filters": null,
       "row_pivots": null,
       "sort": null
      }
     },
     "f15490f46ecf450494ccd8afeeac0863": {
      "model_module": "@finos/perspective-jupyterlab",
      "model_module_version": "~0.5",
      "model_name": "PerspectiveModel",
      "state": {
       "_model_module_version": "~0.5",
       "_view_module_version": "~0.5",
       "aggregates": null,
       "column_pivots": null,
       "columns": [
        "index",
        "set",
        "num"
       ],
       "dark": null,
       "filters": [
        [
         "set",
         "==",
         true
        ]
       ],
       "row_pivots": null,
       "sort": null
      }
     }
    },
    "version_major": 2,
    "version_minor": 0
   }
  }
 },
 "nbformat": 4,
 "nbformat_minor": 4
}
