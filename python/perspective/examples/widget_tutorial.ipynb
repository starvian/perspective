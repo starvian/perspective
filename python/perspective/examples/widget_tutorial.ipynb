{
 "cells": [
  {
   "cell_type": "markdown",
   "metadata": {},
   "source": [
    "### `PerspectiveWidget` tutorial\n",
    "\n",
    "`PerspectiveWidget` is a Jupyterlab plugin that allows you to visualize and transform data using the full capabilities of Perspective and `perspective-viewer`, all within an IPython notebook."
   ]
  },
  {
   "cell_type": "markdown",
   "metadata": {},
   "source": [
    "##### _Creating a PerspectiveWidget using `perspective.Table` and `load`_"
   ]
  },
  {
   "cell_type": "code",
   "execution_count": null,
   "metadata": {},
   "outputs": [],
   "source": [
    "data = {\n",
    "    \"int\": [i for i in range(4)],\n",
    "    \"float\": [i * 1.25 for i in range(4)],\n",
    "    \"str\": [\"a\", \"b\", \"c\", \"d\"],\n",
    "    \"bool\": [True, False, True, False],\n",
    "    \"date\": [date.today() for i in range(4)],\n",
    "    \"datetime\": [datetime.now() for i in range(4)]\n",
    "}"
   ]
  },
  {
   "cell_type": "code",
   "execution_count": null,
   "metadata": {},
   "outputs": [],
   "source": [
    "from perspective import Table, PerspectiveWidget, start"
   ]
  },
  {
   "cell_type": "code",
   "execution_count": null,
   "metadata": {},
   "outputs": [],
   "source": [
    "# 1. create a `perspective.Table` from a dataset\n",
    "table = Table(data)\n",
    "\n",
    "# 2. initialize a PerspectiveWidget, passing in the view configuration using kwargs\n",
    "widget = PerspectiveWidget(plugin=\"d3_y_bar\", columns=[\"int\", \"float\"], row_pivots=[\"str\"])\n",
    "\n",
    "# 3. call `load` on the widget instance to provide it with data\n",
    "widget.load(table)\n",
    "\n",
    "# 4. render the widget\n",
    "widget"
   ]
  },
  {
   "cell_type": "markdown",
   "metadata": {},
   "source": [
    "The order of operations is not necessarily important; `load` can be called before or after render.\n",
    "\n",
    "**To update the underlying dataset for a widget, call `update()` on the table instance; do not call `load` multiple times on the widget.**"
   ]
  },
  {
   "cell_type": "code",
   "execution_count": null,
   "metadata": {},
   "outputs": [],
   "source": [
    "table.update(data) # widget will show updated data"
   ]
  },
  {
   "cell_type": "markdown",
   "metadata": {},
   "source": [
    "When `load()` is called multiple times, the widget compares the column names of the new dataset with the column names of the old dataset. \n",
    "\n",
    "Because attempting to pivot/sort/filter etc. on a column not in the dataset raises an error, the Widget will clear its configuration state if the columns are found to be different."
   ]
  },
  {
   "cell_type": "markdown",
   "metadata": {},
   "source": [
    "### Using `perspective.start` to create a widget\n",
    "\n",
    "You can create a `PerspectiveWidget` using the class initializer and the `load()` method. This allows for more granular control of the `perspective.Table` that is loaded by the widget, as well as allowing for updates on the underlying dataset.\n",
    "\n",
    "However, if you have a dataset that you want to visualize and do not require the control that `Table` offers, use **`perspective.start()`**.\n",
    "\n",
    "This function takes a `perspective.Table` or a dataset as its first required parameter, and the following kwargs mirror the options provided to `PerspectiveWidget.__init__`. Thus, you can create a widget, configure it, and load in a dataset using just one function call."
   ]
  },
  {
   "cell_type": "code",
   "execution_count": null,
   "metadata": {},
   "outputs": [],
   "source": [
    "widget = start(data, plugin=\"d3_y_line\", row_pivots=[\"name\"], columns=[\"int\", \"float\"])\n",
    "widget"
   ]
  }
 ],
 "metadata": {
  "kernelspec": {
   "display_name": "Python 3",
   "language": "python",
   "name": "python3"
  },
  "language_info": {
   "codemirror_mode": {
    "name": "ipython",
    "version": 3
   },
   "file_extension": ".py",
   "mimetype": "text/x-python",
   "name": "python",
   "nbconvert_exporter": "python",
   "pygments_lexer": "ipython3",
   "version": "3.7.4"
  }
 },
 "nbformat": 4,
 "nbformat_minor": 4
}
